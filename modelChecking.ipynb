{
 "cells": [
  {
   "cell_type": "code",
   "execution_count": null,
   "metadata": {},
   "outputs": [],
   "source": [
    "# Custom libraries\n",
    "from dsu import clusteringModels as cm\n",
    "from dsu import analyze\n",
    "from dsu import plotter\n",
    "from dsu import sklearnUtils as sku\n",
    "\n",
    "# Standard libraries\n",
    "import json\n",
    "%matplotlib inline\n",
    "import datetime\n",
    "import numpy as np\n",
    "import pandas as pd\n",
    "\n",
    "from bokeh.plotting import figure, show, output_file, output_notebook, ColumnDataSource\n",
    "from bokeh.charts import Histogram\n",
    "import bokeh\n",
    "output_notebook()\n"
   ]
  },
  {
   "cell_type": "code",
   "execution_count": null,
   "metadata": {},
   "outputs": [],
   "source": [
    "from sklearn import datasets\n",
    "# Load the diabetes dataset\n",
    "diabetes = datasets.load_diabetes()\n",
    "# Use only one feature\n",
    "diabetes_X = diabetes.data[:, np.newaxis, 2]\n",
    "\n",
    "# Split the data into training/testing sets\n",
    "diabetes_X_train = diabetes_X[:-20]\n",
    "diabetes_X_test = diabetes_X[-20:]\n",
    "\n",
    "# Split the targets into training/testing sets\n",
    "diabetes_y_train = diabetes.target[:-20]\n",
    "diabetes_y_test = diabetes.target[-20:]"
   ]
  },
  {
   "cell_type": "code",
   "execution_count": null,
   "metadata": {},
   "outputs": [],
   "source": [
    "CHECK_DISTS = ['norm', 'expon', 'logistic', 'cosine', 'cauchy',]\n",
    "\n",
    "def distribution_tests(series, test_type='ks', dist_type=None):\n",
    "    from scipy import stats\n",
    "    if not dist_type:\n",
    "        ks_test_results = pd.DataFrame(columns=['distribution', 'statistic', 'p-value'])\n",
    "        for distribution in CHECK_DISTS:\n",
    "            if test_type=='ks':\n",
    "                print(\"Kolmogrov - Smirnov test with distribution %s\"%distribution)\n",
    "                try:\n",
    "                    stat, pval = stats.kstest(series, distribution)\n",
    "                except Exception:\n",
    "                    print(\"Error for dist: %s\"%distribution)\n",
    "                    continue\n",
    "                print(stat, pval)\n",
    "                ks_test_results.append({'distribution': distribution,\n",
    "                                        'statistic':stat,\n",
    "                                        'p-value':pval},ignore_index=True)\n",
    "            elif test_type =='wald':\n",
    "                print(\"Wald test with distribution %s\"%distribution)\n",
    "                print(lm.wald_test(series, distribution))\n",
    "            else:\n",
    "                raise \"Unknown distribution similarity test type\"\n",
    "        print(ks_test_results)\n",
    "    else:\n",
    "        print(stats.kstest(series, dist_type))\n",
    "distribution_tests(diabetes_X[0])"
   ]
  },
  {
   "cell_type": "code",
   "execution_count": null,
   "metadata": {},
   "outputs": [],
   "source": [
    "from dsu import statsutils as su\n",
    "print(su.check_distribution(diabetes_X[0],))"
   ]
  },
  {
   "cell_type": "code",
   "execution_count": null,
   "metadata": {},
   "outputs": [],
   "source": [
    "plotter.show(plotter.lineplot(pd.DataFrame(diabetes_X[0], columns=['0'])))"
   ]
  },
  {
   "cell_type": "code",
   "execution_count": null,
   "metadata": {},
   "outputs": [],
   "source": [
    "from sklearn.externals import joblib\n",
    "\n",
    "import os\n",
    "import glob\n",
    "files = glob.glob('../models/*.pkl')\n",
    "\n",
    "print(files)"
   ]
  },
  {
   "cell_type": "code",
   "execution_count": null,
   "metadata": {},
   "outputs": [],
   "source": [
    "from dsu import settings\n",
    "settings.MODELS_BASE_PATH='../models'\n",
    "models = dict()\n",
    "for i,file in enumerate(files):\n",
    "    model = file.split('/')[-1][:-4]\n",
    "    models[i] = sku.load_model(model)\n",
    "    "
   ]
  },
  {
   "cell_type": "code",
   "execution_count": null,
   "metadata": {},
   "outputs": [],
   "source": [
    "models.items()"
   ]
  },
  {
   "cell_type": "code",
   "execution_count": null,
   "metadata": {},
   "outputs": [],
   "source": [
    "res = list()\n",
    "from dsu import modelValidators as mv\n",
    "input_data = pd.DataFrame(diabetes_X_test)\n",
    "input_data.columns = map(str, input_data.columns)\n",
    "for k,(model, metadata) in models.items():\n",
    "       \n",
    "    res.append(model.predict(diabetes_X_test))\n",
    "    model_info = metadata\n",
    "    \n",
    "    model_info.update({'model_class': 'regression'})\n",
    "    print('model id: %s'%model_info['id'])\n",
    "    \n",
    "    if model_info['model_class'] == 'regression':\n",
    "        # Check the predictions are type of continuous variables (float or int)\n",
    "        # parse and translate output_metadata to choice of tests\n",
    "        \n",
    "        mv.validate(model, model_info, input_data) \n",
    "        \n",
    "    \n"
   ]
  }
 ],
 "metadata": {
  "kernelspec": {
   "display_name": "Python 3",
   "language": "python",
   "name": "python3"
  }
 },
 "nbformat": 4,
 "nbformat_minor": 4
}
