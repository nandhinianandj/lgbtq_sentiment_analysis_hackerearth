{
 "cells": [
  {
   "cell_type": "code",
   "execution_count": null,
   "metadata": {},
   "outputs": [],
   "source": [
    "from train_utils import train_evaluate_anchored, get_average_metrics\n",
    "import torch.nn as nn\n",
    "from dain import DAIN_Layer\n",
    "\n",
    "\n",
    "class MLP(nn.Module):\n",
    "\n",
    "    def __init__(self, mode='adaptive_avg', mean_lr=0.00001, gate_lr=0.001, scale_lr=0.0001):\n",
    "        super(MLP, self).__init__()\n",
    "\n",
    "        self.base = nn.Sequential(\n",
    "            nn.Linear(15 * 144, 512),\n",
    "            nn.ReLU(),\n",
    "            nn.Dropout(p=0.5),\n",
    "            nn.Linear(512, 3)\n",
    "        )\n",
    "\n",
    "        self.dean = DAIN_Layer(mode=mode, mean_lr=mean_lr, gate_lr=gate_lr, scale_lr=scale_lr)\n",
    "\n",
    "    def forward(self, x):\n",
    "        x = x.transpose(1, 2)\n",
    "\n",
    "        x = self.dean(x)\n",
    "        x = x.contiguous().view(x.size(0), 15 * 144)\n",
    "        x = self.base(x)\n",
    "\n",
    "        return x\n",
    "\n",
    "\n",
    "def run_experiments_ablation(model, mode, train_epochs=20, window=10, normalization=None):\n",
    "\n",
    "    results1 = train_evaluate_anchored(model, window=window, train_epochs=train_epochs, horizon=0,\n",
    "                                       splits=[1, 2, 3, 4, 5, 6, 7, 8],\n",
    "                                       normalization=normalization)\n",
    "\n",
    "\n",
    "    print(\"----------\")\n",
    "    print(\"Mode: \", mode)\n",
    "    metrics_1 = get_average_metrics(results1)\n",
    "    print(metrics_1)\n",
    "\n",
    "\n",
    "mean_lr, std_lr, scale_lr = 1e-06, 0.001, 10\n",
    "\n",
    "# Baseline 1\n",
    "model = lambda: MLP(mode=None, mean_lr=mean_lr, gate_lr=scale_lr, scale_lr=std_lr)\n",
    "run_experiments_ablation(model, 'mlp_std', window=15, normalization='std')\n",
    "\n",
    "# Baseline 2\n",
    "model = lambda: MLP(mode='avg', mean_lr=mean_lr, gate_lr=scale_lr, scale_lr=std_lr)\n",
    "run_experiments_ablation(model, 'mlp_sample_avg', window=15, normalization=None)\n",
    "\n",
    "# Proposed Method\n",
    "model = lambda: MLP(mode='full', mean_lr=mean_lr, gate_lr=scale_lr, scale_lr=std_lr)\n",
    "run_experiments_ablation(model, 'mlp_full', window=15, normalization=None)"
   ]
  }
 ],
 "metadata": {
  "kernelspec": {
   "display_name": "Python 3",
   "language": "python",
   "name": "python3"
  },
  "language_info": {
   "codemirror_mode": {
    "name": "ipython",
    "version": 3
   },
   "file_extension": ".py",
   "mimetype": "text/x-python",
   "name": "python",
   "nbconvert_exporter": "python",
   "pygments_lexer": "ipython3",
   "version": "3.7.3"
  }
 },
 "nbformat": 4,
 "nbformat_minor": 4
}
