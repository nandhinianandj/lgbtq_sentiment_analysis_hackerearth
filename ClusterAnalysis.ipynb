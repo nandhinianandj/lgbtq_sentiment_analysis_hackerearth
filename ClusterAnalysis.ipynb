{
 "cells": [
  {
   "cell_type": "code",
   "execution_count": 1,
   "metadata": {
    "ExecuteTime": {
     "end_time": "2020-07-06T15:53:51.257935Z",
     "start_time": "2020-07-06T15:53:34.074002Z"
    }
   },
   "outputs": [
    {
     "name": "stderr",
     "output_type": "stream",
     "text": [
      "/home/nandhini/.virtualenvs/analytics/lib/python3.7/site-packages/sklearn/externals/joblib/__init__.py:15: DeprecationWarning: sklearn.externals.joblib is deprecated in 0.21 and will be removed in 0.23. Please import this functionality directly from joblib, which can be installed with: pip install joblib. If this warning is raised when loading pickled models, you may need to re-serialize those models with scikit-learn 0.21+.\n",
      "  warnings.warn(msg, category=DeprecationWarning)\n"
     ]
    }
   ],
   "source": [
    "# Custom libraries\n",
    "from dsu import clusteringModels as cm\n",
    "from dsu import plotter\n",
    "# Standard libraries\n",
    "import json\n",
    "%matplotlib inline\n",
    "import datetime\n",
    "import numpy as np\n",
    "import pandas as pd"
   ]
  },
  {
   "cell_type": "code",
   "execution_count": 2,
   "metadata": {
    "ExecuteTime": {
     "end_time": "2020-07-06T15:53:51.780533Z",
     "start_time": "2020-07-06T15:53:51.259920Z"
    }
   },
   "outputs": [],
   "source": [
    "irisDf = pd.read_csv('~/playspace/data/Iris.csv')"
   ]
  },
  {
   "cell_type": "code",
   "execution_count": 3,
   "metadata": {
    "ExecuteTime": {
     "end_time": "2020-07-06T15:53:52.978442Z",
     "start_time": "2020-07-06T15:53:51.783304Z"
    }
   },
   "outputs": [
    {
     "data": {
      "text/html": [
       "<div>\n",
       "<style scoped>\n",
       "    .dataframe tbody tr th:only-of-type {\n",
       "        vertical-align: middle;\n",
       "    }\n",
       "\n",
       "    .dataframe tbody tr th {\n",
       "        vertical-align: top;\n",
       "    }\n",
       "\n",
       "    .dataframe thead th {\n",
       "        text-align: right;\n",
       "    }\n",
       "</style>\n",
       "<table border=\"1\" class=\"dataframe\">\n",
       "  <thead>\n",
       "    <tr style=\"text-align: right;\">\n",
       "      <th></th>\n",
       "      <th>sepal_length</th>\n",
       "      <th>sepal_width</th>\n",
       "      <th>petal_length</th>\n",
       "      <th>petal_width</th>\n",
       "      <th>Class</th>\n",
       "    </tr>\n",
       "  </thead>\n",
       "  <tbody>\n",
       "    <tr>\n",
       "      <th>0</th>\n",
       "      <td>5.1</td>\n",
       "      <td>3.5</td>\n",
       "      <td>1.4</td>\n",
       "      <td>0.2</td>\n",
       "      <td>Iris-setosa</td>\n",
       "    </tr>\n",
       "    <tr>\n",
       "      <th>1</th>\n",
       "      <td>4.9</td>\n",
       "      <td>3.0</td>\n",
       "      <td>1.4</td>\n",
       "      <td>0.2</td>\n",
       "      <td>Iris-setosa</td>\n",
       "    </tr>\n",
       "    <tr>\n",
       "      <th>2</th>\n",
       "      <td>4.7</td>\n",
       "      <td>3.2</td>\n",
       "      <td>1.3</td>\n",
       "      <td>0.2</td>\n",
       "      <td>Iris-setosa</td>\n",
       "    </tr>\n",
       "    <tr>\n",
       "      <th>3</th>\n",
       "      <td>4.6</td>\n",
       "      <td>3.1</td>\n",
       "      <td>1.5</td>\n",
       "      <td>0.2</td>\n",
       "      <td>Iris-setosa</td>\n",
       "    </tr>\n",
       "    <tr>\n",
       "      <th>4</th>\n",
       "      <td>5.0</td>\n",
       "      <td>3.6</td>\n",
       "      <td>1.4</td>\n",
       "      <td>0.2</td>\n",
       "      <td>Iris-setosa</td>\n",
       "    </tr>\n",
       "  </tbody>\n",
       "</table>\n",
       "</div>"
      ],
      "text/plain": [
       "   sepal_length  sepal_width  petal_length  petal_width        Class\n",
       "0           5.1          3.5           1.4          0.2  Iris-setosa\n",
       "1           4.9          3.0           1.4          0.2  Iris-setosa\n",
       "2           4.7          3.2           1.3          0.2  Iris-setosa\n",
       "3           4.6          3.1           1.5          0.2  Iris-setosa\n",
       "4           5.0          3.6           1.4          0.2  Iris-setosa"
      ]
     },
     "execution_count": 3,
     "metadata": {},
     "output_type": "execute_result"
    }
   ],
   "source": [
    "irisDf.head()"
   ]
  },
  {
   "cell_type": "code",
   "execution_count": 4,
   "metadata": {
    "ExecuteTime": {
     "end_time": "2020-07-06T15:53:53.337842Z",
     "start_time": "2020-07-06T15:53:52.980778Z"
    }
   },
   "outputs": [
    {
     "data": {
      "text/plain": [
       "Index(['sepal_length', 'sepal_width', 'petal_length', 'petal_width', 'Class'], dtype='object')"
      ]
     },
     "execution_count": 4,
     "metadata": {},
     "output_type": "execute_result"
    }
   ],
   "source": [
    "irisDf.columns"
   ]
  },
  {
   "cell_type": "code",
   "execution_count": 5,
   "metadata": {
    "ExecuteTime": {
     "end_time": "2020-07-06T15:53:53.585912Z",
     "start_time": "2020-07-06T15:53:53.341498Z"
    }
   },
   "outputs": [],
   "source": [
    "# sample 10% of data\n",
    "if len(irisDf) > 100000:\n",
    "    samplesize =  int(0.1 *len(irisDf))\n",
    "    sampleDf = irisDf.sample(samplesize)"
   ]
  },
  {
   "cell_type": "code",
   "execution_count": 6,
   "metadata": {
    "ExecuteTime": {
     "end_time": "2020-07-06T15:53:53.855230Z",
     "start_time": "2020-07-06T15:53:53.588380Z"
    }
   },
   "outputs": [
    {
     "data": {
      "text/html": [
       "<div>\n",
       "<style scoped>\n",
       "    .dataframe tbody tr th:only-of-type {\n",
       "        vertical-align: middle;\n",
       "    }\n",
       "\n",
       "    .dataframe tbody tr th {\n",
       "        vertical-align: top;\n",
       "    }\n",
       "\n",
       "    .dataframe thead th {\n",
       "        text-align: right;\n",
       "    }\n",
       "</style>\n",
       "<table border=\"1\" class=\"dataframe\">\n",
       "  <thead>\n",
       "    <tr style=\"text-align: right;\">\n",
       "      <th></th>\n",
       "      <th>sepal_length</th>\n",
       "      <th>sepal_width</th>\n",
       "      <th>petal_length</th>\n",
       "      <th>petal_width</th>\n",
       "      <th>Class</th>\n",
       "    </tr>\n",
       "  </thead>\n",
       "  <tbody>\n",
       "    <tr>\n",
       "      <th>0</th>\n",
       "      <td>5.1</td>\n",
       "      <td>3.5</td>\n",
       "      <td>1.4</td>\n",
       "      <td>0.2</td>\n",
       "      <td>0</td>\n",
       "    </tr>\n",
       "    <tr>\n",
       "      <th>1</th>\n",
       "      <td>4.9</td>\n",
       "      <td>3.0</td>\n",
       "      <td>1.4</td>\n",
       "      <td>0.2</td>\n",
       "      <td>0</td>\n",
       "    </tr>\n",
       "    <tr>\n",
       "      <th>2</th>\n",
       "      <td>4.7</td>\n",
       "      <td>3.2</td>\n",
       "      <td>1.3</td>\n",
       "      <td>0.2</td>\n",
       "      <td>0</td>\n",
       "    </tr>\n",
       "    <tr>\n",
       "      <th>3</th>\n",
       "      <td>4.6</td>\n",
       "      <td>3.1</td>\n",
       "      <td>1.5</td>\n",
       "      <td>0.2</td>\n",
       "      <td>0</td>\n",
       "    </tr>\n",
       "    <tr>\n",
       "      <th>4</th>\n",
       "      <td>5.0</td>\n",
       "      <td>3.6</td>\n",
       "      <td>1.4</td>\n",
       "      <td>0.2</td>\n",
       "      <td>0</td>\n",
       "    </tr>\n",
       "  </tbody>\n",
       "</table>\n",
       "</div>"
      ],
      "text/plain": [
       "   sepal_length  sepal_width  petal_length  petal_width  Class\n",
       "0           5.1          3.5           1.4          0.2      0\n",
       "1           4.9          3.0           1.4          0.2      0\n",
       "2           4.7          3.2           1.3          0.2      0\n",
       "3           4.6          3.1           1.5          0.2      0\n",
       "4           5.0          3.6           1.4          0.2      0"
      ]
     },
     "execution_count": 6,
     "metadata": {},
     "output_type": "execute_result"
    }
   ],
   "source": [
    "target = irisDf['Class']\n",
    "irisDf['Class'] = irisDf['Class'].astype('category')\n",
    "irisDf['Class'] = irisDf['Class'].cat.codes\n",
    "irisDf.head()"
   ]
  },
  {
   "cell_type": "code",
   "execution_count": 7,
   "metadata": {
    "ExecuteTime": {
     "end_time": "2020-07-06T15:53:56.282037Z",
     "start_time": "2020-07-06T15:53:53.856750Z"
    }
   },
   "outputs": [
    {
     "name": "stdout",
     "output_type": "stream",
     "text": [
      "According to  there are 2 clusters\n",
      "According to  there are 2 clusters\n",
      "According to  there are 2 clusters\n",
      "According to  there are 2 clusters\n",
      "According to  there are 2 clusters\n",
      "According to  there are 2 clusters\n"
     ]
    },
    {
     "name": "stderr",
     "output_type": "stream",
     "text": [
      "/home/nandhini/.virtualenvs/analytics/lib/python3.7/site-packages/sklearn/manifold/spectral_embedding_.py:235: UserWarning: Graph is not fully connected, spectral embedding may not work as expected.\n"
     ]
    },
    {
     "name": "stdout",
     "output_type": "stream",
     "text": [
      "According to  there are 2 clusters\n",
      "According to  there are 2 clusters\n",
      "According to  there are 2 clusters\n",
      "According to  there are 1 clusters\n",
      "According to  there are 2 clusters\n"
     ]
    },
    {
     "name": "stderr",
     "output_type": "stream",
     "text": [
      "/home/nandhini/.virtualenvs/analytics/lib/python3.7/site-packages/sklearn/cluster/hierarchical.py:244: UserWarning: the number of connected components of the connectivity matrix is 2 > 1. Completing it to avoid stopping the tree early.\n",
      "/home/nandhini/.virtualenvs/analytics/lib/python3.7/site-packages/sklearn/cluster/hierarchical.py:473: UserWarning: the number of connected components of the connectivity matrix is 2 > 1. Completing it to avoid stopping the tree early.\n"
     ]
    },
    {
     "data": {
      "image/png": "[encoded data removed]",
      "text/plain": [
       "<Figure size 432x288 with 1 Axes>"
      ]
     },
     "metadata": {
      "needs_background": "light"
     },
     "output_type": "display_data"
    }
   ],
   "source": [
    "cm.cluster_analyze(irisDf)"
   ]
  },
  {
   "cell_type": "code",
   "execution_count": 8,
   "metadata": {
    "ExecuteTime": {
     "end_time": "2020-07-06T15:53:56.838175Z",
     "start_time": "2020-07-06T15:53:56.284712Z"
    }
   },
   "outputs": [
    {
     "name": "stdout",
     "output_type": "stream",
     "text": [
      "For clusters = 2 The average silhouette_score is : 0.6798027978812322\n",
      "For clusters = 4 The average silhouette_score is : 0.5384620014392415\n",
      "For clusters = 6 The average silhouette_score is : 0.3925878385833333\n"
     ]
    },
    {
     "data": {
      "image/png": "[encoded data removed]",
      "text/plain": [
       "<Figure size 432x288 with 1 Axes>"
      ]
     },
     "metadata": {
      "needs_background": "light"
     },
     "output_type": "display_data"
    }
   ],
   "source": [
    "cm.silhouette_analyze(irisDf, cluster_type='KMeans')"
   ]
  },
  {
   "cell_type": "code",
   "execution_count": 9,
   "metadata": {
    "ExecuteTime": {
     "end_time": "2020-07-06T15:53:57.109524Z",
     "start_time": "2020-07-06T15:53:56.841338Z"
    }
   },
   "outputs": [
    {
     "name": "stdout",
     "output_type": "stream",
     "text": [
      "For clusters = 2 The average silhouette_score is : 0.4940344047966848\n",
      "For clusters = 4 The average silhouette_score is : 0.4940344047966848\n",
      "For clusters = 6 The average silhouette_score is : 0.4940344047966848\n"
     ]
    },
    {
     "data": {
      "image/png": "[encoded data removed]",
      "text/plain": [
       "<Figure size 432x288 with 1 Axes>"
      ]
     },
     "metadata": {
      "needs_background": "light"
     },
     "output_type": "display_data"
    }
   ],
   "source": [
    "cm.silhouette_analyze(irisDf, cluster_type='dbscan')"
   ]
  },
  {
   "cell_type": "code",
   "execution_count": 10,
   "metadata": {
    "ExecuteTime": {
     "end_time": "2020-07-06T15:53:58.035494Z",
     "start_time": "2020-07-06T15:53:57.112063Z"
    }
   },
   "outputs": [
    {
     "name": "stdout",
     "output_type": "stream",
     "text": [
      "For clusters = 2 The average silhouette_score is : 0.6822257796144715\n",
      "For clusters = 4 The average silhouette_score is : 0.5472552219888404\n",
      "For clusters = 6 The average silhouette_score is : 0.36959691439475656\n"
     ]
    },
    {
     "data": {
      "image/png": "[encoded data removed]",
      "text/plain": [
       "<Figure size 432x288 with 1 Axes>"
      ]
     },
     "metadata": {
      "needs_background": "light"
     },
     "output_type": "display_data"
    }
   ],
   "source": [
    "cm.silhouette_analyze(irisDf, cluster_type='spectral')"
   ]
  },
  {
   "cell_type": "code",
   "execution_count": 11,
   "metadata": {
    "ExecuteTime": {
     "end_time": "2020-07-06T15:53:58.328139Z",
     "start_time": "2020-07-06T15:53:58.038261Z"
    }
   },
   "outputs": [
    {
     "name": "stdout",
     "output_type": "stream",
     "text": [
      "For clusters = 2 The average silhouette_score is : 0.6822257796144715\n",
      "For clusters = 4 The average silhouette_score is : 0.4461213259518587\n",
      "For clusters = 6 The average silhouette_score is : 0.4988090602238851\n"
     ]
    },
    {
     "data": {
      "image/png": "[encoded data removed]",
      "text/plain": [
       "<Figure size 432x288 with 1 Axes>"
      ]
     },
     "metadata": {
      "needs_background": "light"
     },
     "output_type": "display_data"
    }
   ],
   "source": [
    "cm.silhouette_analyze(irisDf, cluster_type='birch')"
   ]
  },
  {
   "cell_type": "code",
   "execution_count": 12,
   "metadata": {
    "ExecuteTime": {
     "end_time": "2020-07-06T15:54:05.934151Z",
     "start_time": "2020-07-06T15:53:58.329627Z"
    }
   },
   "outputs": [
    {
     "name": "stderr",
     "output_type": "stream",
     "text": [
      " Training...\n",
      " pca_linear_initialization took: 0.065000 seconds\n",
      " Rough training...\n",
      " radius_ini: 2.000000 , radius_final: 1.000000, trainlen: 20\n",
      "\n",
      " epoch: 1 ---> elapsed time:  0.114000, quantization error: 0.631237\n",
      "\n",
      " epoch: 2 ---> elapsed time:  0.121000, quantization error: 0.588737\n",
      "\n",
      " epoch: 3 ---> elapsed time:  0.107000, quantization error: 0.526989\n",
      "\n",
      " epoch: 4 ---> elapsed time:  0.105000, quantization error: 0.517030\n",
      "\n",
      " epoch: 5 ---> elapsed time:  0.107000, quantization error: 0.502472\n",
      "\n",
      " epoch: 6 ---> elapsed time:  0.112000, quantization error: 0.491032\n",
      "\n",
      " epoch: 7 ---> elapsed time:  0.104000, quantization error: 0.479976\n",
      "\n",
      " epoch: 8 ---> elapsed time:  0.147000, quantization error: 0.470099\n",
      "\n",
      " epoch: 9 ---> elapsed time:  0.123000, quantization error: 0.462105\n",
      "\n",
      " epoch: 10 ---> elapsed time:  0.123000, quantization error: 0.454848\n",
      "\n",
      " epoch: 11 ---> elapsed time:  0.111000, quantization error: 0.446919\n",
      "\n",
      " epoch: 12 ---> elapsed time:  0.136000, quantization error: 0.438712\n",
      "\n",
      " epoch: 13 ---> elapsed time:  0.110000, quantization error: 0.430820\n",
      "\n",
      " epoch: 14 ---> elapsed time:  0.131000, quantization error: 0.422835\n",
      "\n",
      " epoch: 15 ---> elapsed time:  0.129000, quantization error: 0.412194\n",
      "\n",
      " epoch: 16 ---> elapsed time:  0.104000, quantization error: 0.400999\n",
      "\n",
      " epoch: 17 ---> elapsed time:  0.105000, quantization error: 0.391722\n",
      "\n",
      " epoch: 18 ---> elapsed time:  0.107000, quantization error: 0.382561\n",
      "\n",
      " epoch: 19 ---> elapsed time:  0.129000, quantization error: 0.374267\n",
      "\n",
      " epoch: 20 ---> elapsed time:  0.106000, quantization error: 0.363807\n",
      "\n",
      " Finetune training...\n",
      " radius_ini: 1.000000 , radius_final: 1.000000, trainlen: 27\n",
      "\n",
      " epoch: 1 ---> elapsed time:  0.132000, quantization error: 0.350163\n",
      "\n",
      " epoch: 2 ---> elapsed time:  0.107000, quantization error: 0.347310\n",
      "\n",
      " epoch: 3 ---> elapsed time:  0.114000, quantization error: 0.345719\n",
      "\n",
      " epoch: 4 ---> elapsed time:  0.103000, quantization error: 0.345570\n",
      "\n",
      " epoch: 5 ---> elapsed time:  0.103000, quantization error: 0.345570\n",
      "\n",
      " epoch: 6 ---> elapsed time:  0.108000, quantization error: 0.345570\n",
      "\n",
      " epoch: 7 ---> elapsed time:  0.112000, quantization error: 0.345570\n",
      "\n",
      " epoch: 8 ---> elapsed time:  0.123000, quantization error: 0.345570\n",
      "\n",
      " epoch: 9 ---> elapsed time:  0.119000, quantization error: 0.345570\n",
      "\n",
      " epoch: 10 ---> elapsed time:  0.103000, quantization error: 0.345570\n",
      "\n",
      " epoch: 11 ---> elapsed time:  0.149000, quantization error: 0.345570\n",
      "\n",
      " epoch: 12 ---> elapsed time:  0.114000, quantization error: 0.345570\n",
      "\n",
      " epoch: 13 ---> elapsed time:  0.144000, quantization error: 0.345570\n",
      "\n",
      " epoch: 14 ---> elapsed time:  0.113000, quantization error: 0.345570\n",
      "\n",
      " epoch: 15 ---> elapsed time:  0.137000, quantization error: 0.345570\n",
      "\n",
      " epoch: 16 ---> elapsed time:  0.111000, quantization error: 0.345570\n",
      "\n",
      " epoch: 17 ---> elapsed time:  0.138000, quantization error: 0.345570\n",
      "\n",
      " epoch: 18 ---> elapsed time:  0.138000, quantization error: 0.345570\n",
      "\n",
      " epoch: 19 ---> elapsed time:  0.129000, quantization error: 0.345570\n",
      "\n",
      " epoch: 20 ---> elapsed time:  0.146000, quantization error: 0.345570\n",
      "\n",
      " epoch: 21 ---> elapsed time:  0.118000, quantization error: 0.345570\n",
      "\n",
      " epoch: 22 ---> elapsed time:  0.142000, quantization error: 0.345570\n",
      "\n",
      " epoch: 23 ---> elapsed time:  0.110000, quantization error: 0.345570\n",
      "\n",
      " epoch: 24 ---> elapsed time:  0.125000, quantization error: 0.345570\n",
      "\n",
      " epoch: 25 ---> elapsed time:  0.106000, quantization error: 0.345570\n",
      "\n",
      " epoch: 26 ---> elapsed time:  0.117000, quantization error: 0.345570\n",
      "\n",
      " epoch: 27 ---> elapsed time:  0.126000, quantization error: 0.345570\n",
      "\n",
      " Final quantization error: 0.345570\n",
      " train took: 6.006000 seconds\n"
     ]
    },
    {
     "data": {
      "image/png": "[encoded data removed]",
      "text/plain": [
       "<Figure size 1188x363 with 6 Axes>"
      ]
     },
     "metadata": {},
     "output_type": "display_data"
    },
    {
     "name": "stderr",
     "output_type": "stream",
     "text": [
      "/home/nandhini/.virtualenvs/analytics/src/sompy/sompy/visualization/mapview.py:163: MatplotlibDeprecationWarning: Adding an axes using the same arguments as a previous axes currently reuses the earlier instance.  In a future version, a new instance will always be created and returned.  Meanwhile, this warning can be suppressed, and the future behavior ensured, by passing a unique label to each axes instance.\n"
     ]
    },
    {
     "data": {
      "image/png": "[encoded data removed]",
      "text/plain": [
       "<Figure size 360x360 with 1 Axes>"
      ]
     },
     "metadata": {},
     "output_type": "display_data"
    },
    {
     "name": "stderr",
     "output_type": "stream",
     "text": [
      "/home/nandhini/.virtualenvs/analytics/src/sompy/sompy/visualization/hitmap.py:37: MatplotlibDeprecationWarning: Adding an axes using the same arguments as a previous axes currently reuses the earlier instance.  In a future version, a new instance will always be created and returned.  Meanwhile, this warning can be suppressed, and the future behavior ensured, by passing a unique label to each axes instance.\n"
     ]
    }
   ],
   "source": [
    "cm.som_analyze(irisDf, (10,10), algo_type='som')"
   ]
  },
  {
   "cell_type": "code",
   "execution_count": 13,
   "metadata": {
    "ExecuteTime": {
     "end_time": "2020-07-06T15:54:06.323690Z",
     "start_time": "2020-07-06T15:54:05.935977Z"
    }
   },
   "outputs": [
    {
     "name": "stdout",
     "output_type": "stream",
     "text": [
      "No cluster found with cluster no:2 and algo type: bgmm\n",
      "No cluster found with cluster no:4 and algo type: bgmm\n",
      "No cluster found with cluster no:6 and algo type: bgmm\n"
     ]
    },
    {
     "data": {
      "image/png": "[encoded data removed]",
      "text/plain": [
       "<Figure size 432x288 with 1 Axes>"
      ]
     },
     "metadata": {
      "needs_background": "light"
     },
     "output_type": "display_data"
    }
   ],
   "source": [
    "numColumns = irisDf.select_dtypes(include=[np.number])\n",
    "cm.silhouette_analyze(numColumns, cluster_type='bgmm')"
   ]
  },
  {
   "cell_type": "code",
   "execution_count": null,
   "metadata": {},
   "outputs": [],
   "source": []
  }
 ],
 "metadata": {
  "kernelspec": {
   "display_name": "Python 3",
   "language": "python",
   "name": "python3"
  },
  "language_info": {
   "codemirror_mode": {
    "name": "ipython",
    "version": 3
   },
   "file_extension": ".py",
   "mimetype": "text/x-python",
   "name": "python",
   "nbconvert_exporter": "python",
   "pygments_lexer": "ipython3",
   "version": "3.7.3"
  }
 },
 "nbformat": 4,
 "nbformat_minor": 4
}
